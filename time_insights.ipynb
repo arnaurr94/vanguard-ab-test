{
 "cells": [
  {
   "cell_type": "code",
   "execution_count": 1,
   "id": "d8c3e725",
   "metadata": {},
   "outputs": [],
   "source": [
    "import analysis as anls\n",
    "import pandas as pd"
   ]
  },
  {
   "cell_type": "code",
   "execution_count": 12,
   "id": "7cf5e1e8",
   "metadata": {},
   "outputs": [],
   "source": [
    "# Calculate, for each process step, how long users spend there on average:\n",
    "query = \"\"\"\n",
    "SELECT  \n",
    "        p.variation,\n",
    "        s.process_step,\n",
    "  \t\tavg(s.time_diff)\n",
    "FROM `session` s\n",
    "JOIN participants p\n",
    "\tON p.client_id = s.client_id\n",
    "GROUP BY s.process_step, p.variation\n",
    "order by process_step asc\n",
    "\"\"\" \n",
    "mean_time_by_step = anls.query_db(query)"
   ]
  },
  {
   "cell_type": "code",
   "execution_count": 13,
   "id": "e63ee857",
   "metadata": {},
   "outputs": [
    {
     "data": {
      "text/html": [
       "<div>\n",
       "<style scoped>\n",
       "    .dataframe tbody tr th:only-of-type {\n",
       "        vertical-align: middle;\n",
       "    }\n",
       "\n",
       "    .dataframe tbody tr th {\n",
       "        vertical-align: top;\n",
       "    }\n",
       "\n",
       "    .dataframe thead th {\n",
       "        text-align: right;\n",
       "    }\n",
       "</style>\n",
       "<table border=\"1\" class=\"dataframe\">\n",
       "  <thead>\n",
       "    <tr style=\"text-align: right;\">\n",
       "      <th></th>\n",
       "      <th>variation</th>\n",
       "      <th>process_step</th>\n",
       "      <th>avg(s.time_diff)</th>\n",
       "    </tr>\n",
       "  </thead>\n",
       "  <tbody>\n",
       "    <tr>\n",
       "      <th>0</th>\n",
       "      <td>Control</td>\n",
       "      <td>0</td>\n",
       "      <td>555.565657</td>\n",
       "    </tr>\n",
       "    <tr>\n",
       "      <th>1</th>\n",
       "      <td>Test</td>\n",
       "      <td>0</td>\n",
       "      <td>466.412098</td>\n",
       "    </tr>\n",
       "    <tr>\n",
       "      <th>2</th>\n",
       "      <td>Control</td>\n",
       "      <td>1</td>\n",
       "      <td>61.409330</td>\n",
       "    </tr>\n",
       "    <tr>\n",
       "      <th>3</th>\n",
       "      <td>Test</td>\n",
       "      <td>1</td>\n",
       "      <td>52.266724</td>\n",
       "    </tr>\n",
       "    <tr>\n",
       "      <th>4</th>\n",
       "      <td>Control</td>\n",
       "      <td>2</td>\n",
       "      <td>48.771101</td>\n",
       "    </tr>\n",
       "    <tr>\n",
       "      <th>5</th>\n",
       "      <td>Test</td>\n",
       "      <td>2</td>\n",
       "      <td>73.655594</td>\n",
       "    </tr>\n",
       "    <tr>\n",
       "      <th>6</th>\n",
       "      <td>Control</td>\n",
       "      <td>3</td>\n",
       "      <td>112.254791</td>\n",
       "    </tr>\n",
       "    <tr>\n",
       "      <th>7</th>\n",
       "      <td>Test</td>\n",
       "      <td>3</td>\n",
       "      <td>108.535578</td>\n",
       "    </tr>\n",
       "    <tr>\n",
       "      <th>8</th>\n",
       "      <td>Control</td>\n",
       "      <td>4</td>\n",
       "      <td>166.588074</td>\n",
       "    </tr>\n",
       "    <tr>\n",
       "      <th>9</th>\n",
       "      <td>Test</td>\n",
       "      <td>4</td>\n",
       "      <td>146.191376</td>\n",
       "    </tr>\n",
       "  </tbody>\n",
       "</table>\n",
       "</div>"
      ],
      "text/plain": [
       "  variation  process_step  avg(s.time_diff)\n",
       "0   Control             0        555.565657\n",
       "1      Test             0        466.412098\n",
       "2   Control             1         61.409330\n",
       "3      Test             1         52.266724\n",
       "4   Control             2         48.771101\n",
       "5      Test             2         73.655594\n",
       "6   Control             3        112.254791\n",
       "7      Test             3        108.535578\n",
       "8   Control             4        166.588074\n",
       "9      Test             4        146.191376"
      ]
     },
     "execution_count": 13,
     "metadata": {},
     "output_type": "execute_result"
    }
   ],
   "source": [
    "mean_time_by_step"
   ]
  }
 ],
 "metadata": {
  "kernelspec": {
   "display_name": ".venv",
   "language": "python",
   "name": "python3"
  },
  "language_info": {
   "codemirror_mode": {
    "name": "ipython",
    "version": 3
   },
   "file_extension": ".py",
   "mimetype": "text/x-python",
   "name": "python",
   "nbconvert_exporter": "python",
   "pygments_lexer": "ipython3",
   "version": "3.13.7"
  }
 },
 "nbformat": 4,
 "nbformat_minor": 5
}
